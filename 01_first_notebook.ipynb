{
 "cells": [
  {
   "cell_type": "markdown",
   "id": "65acfff0",
   "metadata": {},
   "source": [
    "# <h1>Introduction</h1>\n",
    "This is my <i>first</i> Jupyter notebook"
   ]
  },
  {
   "cell_type": "code",
   "execution_count": 12,
   "id": "8b3217a2",
   "metadata": {},
   "outputs": [
    {
     "data": {
      "text/plain": [
       "11"
      ]
     },
     "execution_count": 12,
     "metadata": {},
     "output_type": "execute_result"
    }
   ],
   "source": [
    "x = 5\n",
    "y = 6\n",
    "z =x+y\n",
    "z "
   ]
  },
  {
   "cell_type": "code",
   "execution_count": null,
   "id": "c2fedef7",
   "metadata": {},
   "outputs": [],
   "source": []
  },
  {
   "cell_type": "code",
   "execution_count": null,
   "id": "ee989156",
   "metadata": {},
   "outputs": [],
   "source": []
  }
 ],
 "metadata": {
  "kernelspec": {
   "display_name": "Python 3 (ipykernel)",
   "language": "python",
   "name": "python3"
  },
  "language_info": {
   "codemirror_mode": {
    "name": "ipython",
    "version": 3
   },
   "file_extension": ".py",
   "mimetype": "text/x-python",
   "name": "python",
   "nbconvert_exporter": "python",
   "pygments_lexer": "ipython3",
   "version": "3.9.12"
  }
 },
 "nbformat": 4,
 "nbformat_minor": 5
}
